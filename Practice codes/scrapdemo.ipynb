{
 "cells": [
  {
   "cell_type": "code",
   "execution_count": 1,
   "metadata": {},
   "outputs": [
    {
     "name": "stdout",
     "output_type": "stream",
     "text": [
      "hello\n"
     ]
    }
   ],
   "source": [
    "print(\"hello\")"
   ]
  },
  {
   "cell_type": "code",
   "execution_count": 2,
   "metadata": {},
   "outputs": [
    {
     "name": "stdout",
     "output_type": "stream",
     "text": [
      "Collecting selenium\n",
      "  Downloading selenium-4.29.0-py3-none-any.whl.metadata (7.1 kB)\n",
      "Requirement already satisfied: urllib3<3,>=1.26 in c:\\users\\dell\\appdata\\local\\programs\\python\\python312\\lib\\site-packages (from urllib3[socks]<3,>=1.26->selenium) (2.3.0)\n",
      "Collecting trio~=0.17 (from selenium)\n",
      "  Downloading trio-0.29.0-py3-none-any.whl.metadata (8.5 kB)\n",
      "Collecting trio-websocket~=0.9 (from selenium)\n",
      "  Downloading trio_websocket-0.12.2-py3-none-any.whl.metadata (5.1 kB)\n",
      "Requirement already satisfied: certifi>=2021.10.8 in c:\\users\\dell\\appdata\\local\\programs\\python\\python312\\lib\\site-packages (from selenium) (2024.12.14)\n",
      "Collecting typing_extensions~=4.9 (from selenium)\n",
      "  Downloading typing_extensions-4.12.2-py3-none-any.whl.metadata (3.0 kB)\n",
      "Collecting websocket-client~=1.8 (from selenium)\n",
      "  Downloading websocket_client-1.8.0-py3-none-any.whl.metadata (8.0 kB)\n",
      "Requirement already satisfied: attrs>=23.2.0 in c:\\users\\dell\\appdata\\local\\programs\\python\\python312\\lib\\site-packages (from trio~=0.17->selenium) (25.1.0)\n",
      "Collecting sortedcontainers (from trio~=0.17->selenium)\n",
      "  Downloading sortedcontainers-2.4.0-py2.py3-none-any.whl.metadata (10 kB)\n",
      "Requirement already satisfied: idna in c:\\users\\dell\\appdata\\local\\programs\\python\\python312\\lib\\site-packages (from trio~=0.17->selenium) (3.10)\n",
      "Collecting outcome (from trio~=0.17->selenium)\n",
      "  Downloading outcome-1.3.0.post0-py2.py3-none-any.whl.metadata (2.6 kB)\n",
      "Collecting sniffio>=1.3.0 (from trio~=0.17->selenium)\n",
      "  Downloading sniffio-1.3.1-py3-none-any.whl.metadata (3.9 kB)\n",
      "Requirement already satisfied: cffi>=1.14 in c:\\users\\dell\\appdata\\local\\programs\\python\\python312\\lib\\site-packages (from trio~=0.17->selenium) (1.17.1)\n",
      "Collecting wsproto>=0.14 (from trio-websocket~=0.9->selenium)\n",
      "  Downloading wsproto-1.2.0-py3-none-any.whl.metadata (5.6 kB)\n",
      "Collecting pysocks!=1.5.7,<2.0,>=1.5.6 (from urllib3[socks]<3,>=1.26->selenium)\n",
      "  Downloading PySocks-1.7.1-py3-none-any.whl.metadata (13 kB)\n",
      "Requirement already satisfied: pycparser in c:\\users\\dell\\appdata\\local\\programs\\python\\python312\\lib\\site-packages (from cffi>=1.14->trio~=0.17->selenium) (2.22)\n",
      "Collecting h11<1,>=0.9.0 (from wsproto>=0.14->trio-websocket~=0.9->selenium)\n",
      "  Downloading h11-0.14.0-py3-none-any.whl.metadata (8.2 kB)\n",
      "Downloading selenium-4.29.0-py3-none-any.whl (9.5 MB)\n",
      "   ---------------------------------------- 0.0/9.5 MB ? eta -:--:--\n",
      "   -- ------------------------------------- 0.5/9.5 MB 3.4 MB/s eta 0:00:03\n",
      "   --- ------------------------------------ 0.8/9.5 MB 2.1 MB/s eta 0:00:05\n",
      "   ---- ----------------------------------- 1.0/9.5 MB 2.1 MB/s eta 0:00:05\n",
      "   ------ --------------------------------- 1.6/9.5 MB 1.8 MB/s eta 0:00:05\n",
      "   ------- -------------------------------- 1.8/9.5 MB 1.7 MB/s eta 0:00:05\n",
      "   --------- ------------------------------ 2.4/9.5 MB 1.9 MB/s eta 0:00:04\n",
      "   ------------ --------------------------- 2.9/9.5 MB 2.0 MB/s eta 0:00:04\n",
      "   ------------ --------------------------- 2.9/9.5 MB 2.0 MB/s eta 0:00:04\n",
      "   ------------ --------------------------- 2.9/9.5 MB 2.0 MB/s eta 0:00:04\n",
      "   -------------- ------------------------- 3.4/9.5 MB 1.6 MB/s eta 0:00:04\n",
      "   --------------- ------------------------ 3.7/9.5 MB 1.6 MB/s eta 0:00:04\n",
      "   --------------- ------------------------ 3.7/9.5 MB 1.6 MB/s eta 0:00:04\n",
      "   ----------------- ---------------------- 4.2/9.5 MB 1.5 MB/s eta 0:00:04\n",
      "   ------------------ --------------------- 4.5/9.5 MB 1.5 MB/s eta 0:00:04\n",
      "   ------------------- -------------------- 4.7/9.5 MB 1.4 MB/s eta 0:00:04\n",
      "   -------------------- ------------------- 5.0/9.5 MB 1.5 MB/s eta 0:00:04\n",
      "   --------------------- ------------------ 5.2/9.5 MB 1.4 MB/s eta 0:00:03\n",
      "   --------------------- ------------------ 5.2/9.5 MB 1.4 MB/s eta 0:00:03\n",
      "   --------------------- ------------------ 5.2/9.5 MB 1.4 MB/s eta 0:00:03\n",
      "   ------------------------ --------------- 5.8/9.5 MB 1.3 MB/s eta 0:00:03\n",
      "   ------------------------- -------------- 6.0/9.5 MB 1.3 MB/s eta 0:00:03\n",
      "   -------------------------- ------------- 6.3/9.5 MB 1.3 MB/s eta 0:00:03\n",
      "   ----------------------------- ---------- 7.1/9.5 MB 1.4 MB/s eta 0:00:02\n",
      "   ------------------------------ --------- 7.3/9.5 MB 1.4 MB/s eta 0:00:02\n",
      "   ------------------------------- -------- 7.6/9.5 MB 1.4 MB/s eta 0:00:02\n",
      "   -------------------------------- ------- 7.9/9.5 MB 1.4 MB/s eta 0:00:02\n",
      "   ----------------------------------- ---- 8.4/9.5 MB 1.4 MB/s eta 0:00:01\n",
      "   ------------------------------------- -- 8.9/9.5 MB 1.5 MB/s eta 0:00:01\n",
      "   ---------------------------------------  9.4/9.5 MB 1.5 MB/s eta 0:00:01\n",
      "   ---------------------------------------- 9.5/9.5 MB 1.5 MB/s eta 0:00:00\n",
      "Downloading trio-0.29.0-py3-none-any.whl (492 kB)\n",
      "Downloading trio_websocket-0.12.2-py3-none-any.whl (21 kB)\n",
      "Downloading typing_extensions-4.12.2-py3-none-any.whl (37 kB)\n",
      "Downloading websocket_client-1.8.0-py3-none-any.whl (58 kB)\n",
      "Downloading outcome-1.3.0.post0-py2.py3-none-any.whl (10 kB)\n",
      "Downloading PySocks-1.7.1-py3-none-any.whl (16 kB)\n",
      "Downloading sniffio-1.3.1-py3-none-any.whl (10 kB)\n",
      "Downloading wsproto-1.2.0-py3-none-any.whl (24 kB)\n",
      "Downloading sortedcontainers-2.4.0-py2.py3-none-any.whl (29 kB)\n",
      "Downloading h11-0.14.0-py3-none-any.whl (58 kB)\n",
      "Installing collected packages: sortedcontainers, websocket-client, typing_extensions, sniffio, pysocks, outcome, h11, wsproto, trio, trio-websocket, selenium\n",
      "Successfully installed h11-0.14.0 outcome-1.3.0.post0 pysocks-1.7.1 selenium-4.29.0 sniffio-1.3.1 sortedcontainers-2.4.0 trio-0.29.0 trio-websocket-0.12.2 typing_extensions-4.12.2 websocket-client-1.8.0 wsproto-1.2.0\n",
      "Note: you may need to restart the kernel to use updated packages.\n"
     ]
    }
   ],
   "source": [
    "%pip install selenium"
   ]
  },
  {
   "cell_type": "code",
   "execution_count": 7,
   "metadata": {},
   "outputs": [],
   "source": [
    "from selenium import webdriver\n",
    "# from selenium.webdriver.common.keys import Keys\n",
    "from selenium.webdriver.common.by import By\n",
    "import time\n",
    "driver = webdriver.Chrome()\n",
    "driver.get(\"http://www.google.com\")\n",
    "time.sleep(5)#wait time for loading \n",
    "searchbox=driver.find_element(By.CLASS_NAME,\"gLFyf\")#connect using class name\n",
    "searchbox.send_keys('GUVI')#pass the input \n",
    "searchbox.submit()\n",
    "# assert \"Python\" in driver.title\n",
    "# elem = driver.find_element(By.NAME, \"q\")\n",
    "# elem.clear()\n",
    "# elem.send_keys(\"pycon\")\n",
    "# elem.send_keys(Keys.RETURN)\n",
    "# assert \"No results found.\" not in driver.page_source\n",
    "# driver.close()"
   ]
  },
  {
   "cell_type": "code",
   "execution_count": 26,
   "metadata": {},
   "outputs": [],
   "source": [
    "from selenium import webdriver\n",
    "from selenium.webdriver.common.keys import Keys\n",
    "from selenium.webdriver.common.by import By\n",
    "import time\n",
    "driver = webdriver.Chrome()\n",
    "driver.get(\"https://www.guvi.in/courses/?current_tab=freelibrary\")\n",
    "# title=driver.find_elements(By.CSS_SELECTOR,'h3[class=\"⭐️didno8-0 font-bold card-title flex-grow items-start text-xl progress-title\"]')\n",
    "# image=driver.find_elements(By.CSS_SELECTOR,\"img[class='!max-w-full']\")\n",
    "#scroll website automatically\n",
    "# driver.find_element(By.TAG_NAME,\"body\").send_keys(Keys.PAGE_DOWN) \n",
    "#whole div\n",
    "course=driver.find_elements(By.XPATH,\"//div[@class='⭐️didno8-0 card-body relative !p-5 flex-grow  gap-0']\")"
   ]
  },
  {
   "cell_type": "code",
   "execution_count": 27,
   "metadata": {},
   "outputs": [
    {
     "name": "stdout",
     "output_type": "stream",
     "text": [
      "Free\n",
      "C Programming\n",
      "4 Hrs\n",
      "English\n",
      "23415 Enrolled\n",
      "Learn for FREE\n",
      "Pay for Certification!\n",
      "Free\n",
      "Java for Beginners\n",
      "20 Hrs\n",
      "English\n",
      "19724 Enrolled\n",
      "Learn for FREE\n",
      "Pay for Certification!\n",
      "Free\n",
      "JavaScript Zero to Hero in French\n",
      "17 Hrs\n",
      "French\n",
      "2002 Enrolled\n",
      "Learn for FREE\n",
      "Pay for Certification!\n",
      "Free\n",
      "Javascript Zero to Hero\n",
      "17 Hrs\n",
      "English\n",
      "42695 Enrolled\n",
      "Learn for FREE\n",
      "Pay for Certification!\n",
      "Free\n",
      "Python - IITM Pravartak Certified\n",
      "6 Hrs\n",
      "Arabic\n",
      "2785 Enrolled\n",
      "Learn for FREE\n",
      "Pay for Certification!\n"
     ]
    }
   ],
   "source": [
    "for i in course:\n",
    "    print(i.text)\n",
    "# imageLink= [i.get_attribute('src') for i in image]\n"
   ]
  },
  {
   "cell_type": "code",
   "execution_count": 20,
   "metadata": {},
   "outputs": [
    {
     "data": {
      "text/plain": [
       "['https://static.guvi.in/cdn-cgi/image/metadata=keep,width=390,height=200,f=auto,fit=cover/course-thumbnail/webps/c-programming.webp',\n",
       " 'https://static.guvi.in/cdn-cgi/image/metadata=keep,width=390,height=200,f=auto,fit=cover/course-thumbnail/webps/chatgptbengalibengali.webp',\n",
       " 'https://static.guvi.in/cdn-cgi/image/metadata=keep,width=390,height=200,f=auto,fit=cover/course-thumbnail/webps/chatgptenglish.webp',\n",
       " 'https://static.guvi.in/cdn-cgi/image/metadata=keep,width=390,height=200,f=auto,fit=cover/course-thumbnail/webps/bigdata.webp',\n",
       " 'https://static.guvi.in/cdn-cgi/image/metadata=keep,width=390,height=200,f=auto,fit=cover/course-thumbnail/webps/javaenglish.webp',\n",
       " 'https://static.guvi.in/cdn-cgi/image/metadata=keep,width=390,height=200,f=auto,fit=cover/course-thumbnail/webps/javascriptzerotoherofrench4.webp',\n",
       " 'https://static.guvi.in/cdn-cgi/image/metadata=keep,width=390,height=200,f=auto,fit=cover/course-thumbnail/webps/javascript.webp',\n",
       " 'https://static.guvi.in/cdn-cgi/image/metadata=keep,width=390,height=200,f=auto,fit=cover/course-thumbnail/webps/python.webp']"
      ]
     },
     "execution_count": 20,
     "metadata": {},
     "output_type": "execute_result"
    }
   ],
   "source": [
    "imageLink"
   ]
  },
  {
   "cell_type": "code",
   "execution_count": 33,
   "metadata": {},
   "outputs": [],
   "source": [
    "from selenium import webdriver\n",
    "from selenium.webdriver.common.keys import Keys\n",
    "from selenium.webdriver.common.by import By\n",
    "import time\n",
    "\n",
    "driver=webdriver.Chrome()\n",
    "driver.get(\"https://www.imdb.com/search/title/?title_type=feature&release_date=2024-01-01,2024-12-31\")\n",
    "movieTitles=driver.find_elements(By.CLASS_NAME,\"ipc-title__text\")"
   ]
  },
  {
   "cell_type": "code",
   "execution_count": 31,
   "metadata": {},
   "outputs": [
    {
     "name": "stdout",
     "output_type": "stream",
     "text": [
      "Advanced title search\n",
      "1. The Brutalist\n",
      "2. Nosferatu\n",
      "3. Anora\n",
      "4. A Complete Unknown\n",
      "5. Conclave\n",
      "6. The Substance\n",
      "7. I'm Still Here\n",
      "8. A Real Pain\n",
      "9. Presence\n",
      "10. Flow\n",
      "11. Emilia Pérez\n",
      "12. Venom: The Last Dance\n",
      "13. Wicked\n",
      "14. Elevation\n",
      "15. Sonic the Hedgehog 3\n",
      "16. Gladiator II\n",
      "17. Mufasa: The Lion King\n",
      "18. Nickel Boys\n",
      "19. Longlegs\n",
      "20. Babygirl\n",
      "21. The Order\n",
      "22. September 5\n",
      "23. The Wild Robot\n",
      "24. The Last Showgirl\n",
      "25. Heretic\n",
      "26. Furiosa: A Mad Max Saga\n",
      "27. Eden\n",
      "28. Dune: Part Two\n",
      "29. The Apprentice\n",
      "30. The Surfer\n",
      "31. Parthenope\n",
      "32. Pushpa: The Rule - Part 2\n",
      "33. Paddington in Peru\n",
      "34. Saturday Night\n",
      "35. Kraven the Hunter\n",
      "36. Blink Twice\n",
      "37. It Ends with Us\n",
      "38. Old Guy\n",
      "39. We Live in Time\n",
      "40. Better Man\n",
      "41. Juror #2\n",
      "42. Subservience\n",
      "43. Moana 2\n",
      "44. Deadpool & Wolverine\n",
      "45. Queen of the Ring\n",
      "46. The Ministry of Ungentlemanly Warfare\n",
      "47. Borderlands\n",
      "48. Alien: Romulus\n",
      "49. The Girl with the Needle\n",
      "50. Maria\n",
      "Recently viewed\n"
     ]
    }
   ],
   "source": [
    "for i in movieTitles:\n",
    "    print(i.text)"
   ]
  }
 ],
 "metadata": {
  "kernelspec": {
   "display_name": "Python 3",
   "language": "python",
   "name": "python3"
  },
  "language_info": {
   "codemirror_mode": {
    "name": "ipython",
    "version": 3
   },
   "file_extension": ".py",
   "mimetype": "text/x-python",
   "name": "python",
   "nbconvert_exporter": "python",
   "pygments_lexer": "ipython3",
   "version": "3.12.8"
  }
 },
 "nbformat": 4,
 "nbformat_minor": 2
}
