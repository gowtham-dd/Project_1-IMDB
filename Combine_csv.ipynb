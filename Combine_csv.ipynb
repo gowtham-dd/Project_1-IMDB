{
 "cells": [
  {
   "cell_type": "code",
   "execution_count": 1,
   "metadata": {},
   "outputs": [
    {
     "name": "stdout",
     "output_type": "stream",
     "text": [
      "Requirement already satisfied: pandas in c:\\users\\dell\\appdata\\local\\programs\\python\\python312\\lib\\site-packages (2.2.3)Note: you may need to restart the kernel to use updated packages.\n",
      "\n",
      "Requirement already satisfied: numpy>=1.26.0 in c:\\users\\dell\\appdata\\local\\programs\\python\\python312\\lib\\site-packages (from pandas) (1.26.4)\n",
      "Requirement already satisfied: python-dateutil>=2.8.2 in c:\\users\\dell\\appdata\\roaming\\python\\python312\\site-packages (from pandas) (2.9.0.post0)\n",
      "Requirement already satisfied: pytz>=2020.1 in c:\\users\\dell\\appdata\\local\\programs\\python\\python312\\lib\\site-packages (from pandas) (2024.2)\n",
      "Requirement already satisfied: tzdata>=2022.7 in c:\\users\\dell\\appdata\\local\\programs\\python\\python312\\lib\\site-packages (from pandas) (2025.1)\n",
      "Requirement already satisfied: six>=1.5 in c:\\users\\dell\\appdata\\roaming\\python\\python312\\site-packages (from python-dateutil>=2.8.2->pandas) (1.17.0)\n",
      "Note: you may need to restart the kernel to use updated packages.\n"
     ]
    },
    {
     "name": "stderr",
     "output_type": "stream",
     "text": [
      "ERROR: Could not find a version that satisfies the requirement python-mysql-connector (from versions: none)\n",
      "ERROR: No matching distribution found for python-mysql-connector\n"
     ]
    }
   ],
   "source": [
    "%pip install pandas\n",
    "%pip install python-mysql-connector"
   ]
  },
  {
   "cell_type": "code",
   "execution_count": 2,
   "metadata": {},
   "outputs": [
    {
     "name": "stdout",
     "output_type": "stream",
     "text": [
      "✅ All CSV files have been merged into 'Excel/combined_movies.csv'.\n"
     ]
    }
   ],
   "source": [
    "import pandas as pd\n",
    "import glob\n",
    "import os  # Import os for handling filenames\n",
    "\n",
    "# Get list of all CSV files in the 'Excel' folder\n",
    "csv_files = glob.glob(\"Excel/*.csv\")  # Modify path if needed\n",
    "\n",
    "# Initialize an empty list to store DataFrames\n",
    "df_list = []\n",
    "\n",
    "for file in csv_files:\n",
    "    # Read CSV file into a DataFrame\n",
    "    df = pd.read_csv(file)\n",
    "    \n",
    "    # Extract genre from the filename (removing folder name)\n",
    "    genre = os.path.basename(file).replace(\".csv\", \"\")  # Extract filename only\n",
    "    \n",
    "    # Add a 'Genre' column\n",
    "    df['Genre'] = genre\n",
    "    \n",
    "    # Append DataFrame to list\n",
    "    df_list.append(df)\n",
    "\n",
    "# Combine all DataFrames into one\n",
    "merged_df = pd.concat(df_list, ignore_index=True)  # Concatenation, not merging\n",
    "\n",
    "# Save to a single CSV file\n",
    "merged_df.to_csv(\"Excel/combined_movies.csv\", index=False)  # Save inside 'Excel' folder\n",
    "\n",
    "print(\"✅ All CSV files have been merged into 'Excel/combined_movies.csv'.\")\n"
   ]
  },
  {
   "cell_type": "code",
   "execution_count": 36,
   "metadata": {},
   "outputs": [
    {
     "name": "stdout",
     "output_type": "stream",
     "text": [
      "Merged CSV file saved as: D:\\Data Science\\Project 1 IMDB\\Excel\\merged_cleaned_movies.csv\n"
     ]
    }
   ],
   "source": [
    "import pandas as pd\n",
    "import os\n",
    "import mysql.connector\n",
    "\n",
    "# Folder path containing the CSV files\n",
    "folder_path = r\"D:\\Data Science\\Project 1 IMDB\\Excel\"\n",
    "\n",
    "#  list of all CSV files in the folder \n",
    "csv_files = [os.path.join(folder_path, file) for file in os.listdir(folder_path) if file.endswith(\".csv\")][:5]\n",
    "\n",
    "# Read and merge the data\n",
    "df = pd.concat([pd.read_csv(file) for file in csv_files], ignore_index=True)\n",
    "\n",
    "# Remove duplicates based on \"Title\" column (keep the first occurrence)\n",
    "df.drop_duplicates(subset=[\"Title\"], keep=\"first\", inplace=True)\n",
    "\n",
    "#  Save the cleaned merged data \n",
    "output_file = os.path.join(folder_path, \"merged_cleaned_movies.csv\")\n",
    "df.to_csv(output_file, index=False)\n",
    "\n",
    "print(f\"Merged CSV file saved as: {output_file}\")"
   ]
  },
  {
   "cell_type": "code",
   "execution_count": 34,
   "metadata": {},
   "outputs": [
    {
     "name": "stdout",
     "output_type": "stream",
     "text": [
      "Files in the folder: ['Action.csv', 'Comedy.csv', 'Horror.csv', 'Mystery.csv', 'Romance.csv', 'Thriller.csv']\n",
      "CSV Files found: ['Action.csv', 'Comedy.csv', 'Horror.csv', 'Mystery.csv', 'Romance.csv', 'Thriller.csv']\n"
     ]
    }
   ],
   "source": [
    "import os\n",
    "\n",
    "folder_path = r\"D:\\Data Science\\Project 1 IMDB\\Excel\"\n",
    "\n",
    "# Print the files found in the folder\n",
    "files = os.listdir(folder_path)\n",
    "print(\"Files in the folder:\", files)\n",
    "\n",
    "# Print only CSV files\n",
    "csv_files = [file for file in files if file.endswith(\".csv\")]\n",
    "print(\"CSV Files found:\", csv_files)\n"
   ]
  },
  {
   "cell_type": "code",
   "execution_count": 3,
   "metadata": {},
   "outputs": [
    {
     "name": "stdout",
     "output_type": "stream",
     "text": [
      "Index(['Unnamed: 0', 'Title', 'Genre', 'Duration', 'Rating', 'Votes'], dtype='object')\n"
     ]
    }
   ],
   "source": [
    "print(df.columns)\n"
   ]
  },
  {
   "cell_type": "code",
   "execution_count": 4,
   "metadata": {},
   "outputs": [
    {
     "name": "stdout",
     "output_type": "stream",
     "text": [
      "['Unnamed: 0', 'Title', 'Genre', 'Duration', 'Rating', 'Votes']\n"
     ]
    }
   ],
   "source": [
    "print(df.columns.tolist())  \n"
   ]
  }
 ],
 "metadata": {
  "kernelspec": {
   "display_name": "Python 3",
   "language": "python",
   "name": "python3"
  },
  "language_info": {
   "codemirror_mode": {
    "name": "ipython",
    "version": 3
   },
   "file_extension": ".py",
   "mimetype": "text/x-python",
   "name": "python",
   "nbconvert_exporter": "python",
   "pygments_lexer": "ipython3",
   "version": "3.12.8"
  }
 },
 "nbformat": 4,
 "nbformat_minor": 2
}
